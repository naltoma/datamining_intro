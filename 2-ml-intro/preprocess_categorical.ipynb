{
 "cells": [
  {
   "cell_type": "markdown",
   "metadata": {},
   "source": [
    "# preprocessing for categorical variables on Youtube dataset\n",
    "- ref.\n",
    "    - preprocess methods\n",
    "        - [機械学習のための特徴量エンジニアリング](https://www.oreilly.co.jp/books/9784873118680/)\n",
    "        - [5.3. Preprocessing data](https://scikit-learn.org/stable/modules/preprocessing.html#normalization)\n",
    "        - [Categorical Data, UNDERSTANDING FEATURE ENGINEERING (PART 2)](https://towardsdatascience.com/understanding-feature-engineering-part-2-categorical-data-f54324193e63)\n",
    "        - [Category Encoders](http://contrib.scikit-learn.org/categorical-encoding/index.html)\n",
    "    - data: [YouTuberデータセット公開してみた](https://qiita.com/myaun/items/7e0dd7f3f9d9d2fef497)\n",
    "- TOC\n",
    "    - <a href=\"#ready\">ready for data</a>\n",
    "    - <a href=\"#one-hot\">one-hot encoding</a>\n",
    "    - <a href=\"#feature-hashing\">Feature hashing</a>\n",
    "    - <a href=\"#basen\">BaseN encoding</a>\n",
    "    - <a href=\"#woe\">Weight of Evidence</a>\n"
   ]
  },
  {
   "cell_type": "markdown",
   "metadata": {},
   "source": [
    "## <a name=\"ready\">ready for data</a>"
   ]
  },
  {
   "cell_type": "code",
   "execution_count": 1,
   "metadata": {},
   "outputs": [
    {
     "data": {
      "text/html": [
       "<div>\n",
       "<style scoped>\n",
       "    .dataframe tbody tr th:only-of-type {\n",
       "        vertical-align: middle;\n",
       "    }\n",
       "\n",
       "    .dataframe tbody tr th {\n",
       "        vertical-align: top;\n",
       "    }\n",
       "\n",
       "    .dataframe thead th {\n",
       "        text-align: right;\n",
       "    }\n",
       "</style>\n",
       "<table border=\"1\" class=\"dataframe\">\n",
       "  <thead>\n",
       "    <tr style=\"text-align: right;\">\n",
       "      <th></th>\n",
       "      <th>id</th>\n",
       "      <th>title</th>\n",
       "      <th>description</th>\n",
       "      <th>liveBroadcastContent</th>\n",
       "      <th>tags</th>\n",
       "      <th>publishedAt</th>\n",
       "      <th>thumbnails</th>\n",
       "      <th>viewCount</th>\n",
       "      <th>likeCount</th>\n",
       "      <th>favoriteCount</th>\n",
       "      <th>...</th>\n",
       "      <th>commentCount</th>\n",
       "      <th>caption</th>\n",
       "      <th>definition</th>\n",
       "      <th>dimension</th>\n",
       "      <th>duration</th>\n",
       "      <th>projection</th>\n",
       "      <th>TopicIds</th>\n",
       "      <th>relevantTopicIds</th>\n",
       "      <th>idx</th>\n",
       "      <th>cid</th>\n",
       "    </tr>\n",
       "  </thead>\n",
       "  <tbody>\n",
       "    <tr>\n",
       "      <th>0</th>\n",
       "      <td>R7V5d94XkGQ</td>\n",
       "      <td>【大食い】超高級寿司店で３人で食べ放題したらいくらかかるの!?【大トロ1カン2,000円】</td>\n",
       "      <td>提供：ポコロンダンジョンズ\\r\\r\\r\\r\\niOS：https://bit.ly/2sGg...</td>\n",
       "      <td>none</td>\n",
       "      <td>['ヒカキン', 'ヒカキンtv', 'hikakintv', 'hikakin', 'ひか...</td>\n",
       "      <td>2018-06-30T04:00:01.000Z</td>\n",
       "      <td>https://i.ytimg.com/vi/R7V5d94XkGQ/default.jpg</td>\n",
       "      <td>2244205.0</td>\n",
       "      <td>27703.0</td>\n",
       "      <td>0</td>\n",
       "      <td>...</td>\n",
       "      <td>8647.0</td>\n",
       "      <td>False</td>\n",
       "      <td>hd</td>\n",
       "      <td>2d</td>\n",
       "      <td>PT21M16S</td>\n",
       "      <td>rectangular</td>\n",
       "      <td>NaN</td>\n",
       "      <td>['/m/02wbm', '/m/019_rr', '/m/019_rr', '/m/02w...</td>\n",
       "      <td>1</td>\n",
       "      <td>UCZf__ehlCEBPop___sldpBUQ</td>\n",
       "    </tr>\n",
       "    <tr>\n",
       "      <th>1</th>\n",
       "      <td>2R9_bkcWNd4</td>\n",
       "      <td>【女王集結】女性YouTuberたちと飲みながら本音トークしてみたら爆笑www</td>\n",
       "      <td>しばなんチャンネルの動画\\r\\r\\r\\r\\nhttps://www.youtube.com/...</td>\n",
       "      <td>none</td>\n",
       "      <td>['ヒカキン', 'ヒカキンtv', 'hikakintv', 'hikakin', 'ひか...</td>\n",
       "      <td>2018-06-29T08:00:01.000Z</td>\n",
       "      <td>https://i.ytimg.com/vi/2R9_bkcWNd4/default.jpg</td>\n",
       "      <td>1869268.0</td>\n",
       "      <td>30889.0</td>\n",
       "      <td>0</td>\n",
       "      <td>...</td>\n",
       "      <td>8859.0</td>\n",
       "      <td>False</td>\n",
       "      <td>hd</td>\n",
       "      <td>2d</td>\n",
       "      <td>PT18M38S</td>\n",
       "      <td>rectangular</td>\n",
       "      <td>NaN</td>\n",
       "      <td>['/m/04rlf', '/m/02jjt', '/m/02jjt']</td>\n",
       "      <td>2</td>\n",
       "      <td>UCZf__ehlCEBPop___sldpBUQ</td>\n",
       "    </tr>\n",
       "    <tr>\n",
       "      <th>2</th>\n",
       "      <td>EU8S-zxS9PI</td>\n",
       "      <td>【悪質】偽物ヒカキン許さねぇ…注意してください！【なりすまし】</td>\n",
       "      <td>◆チャンネル登録はこちら↓\\r\\r\\r\\r\\nhttp://www.youtube.com/...</td>\n",
       "      <td>none</td>\n",
       "      <td>['ヒカキン', 'ヒカキンtv', 'hikakintv', 'hikakin', 'ひか...</td>\n",
       "      <td>2018-06-27T08:38:55.000Z</td>\n",
       "      <td>https://i.ytimg.com/vi/EU8S-zxS9PI/default.jpg</td>\n",
       "      <td>1724625.0</td>\n",
       "      <td>33038.0</td>\n",
       "      <td>0</td>\n",
       "      <td>...</td>\n",
       "      <td>11504.0</td>\n",
       "      <td>False</td>\n",
       "      <td>hd</td>\n",
       "      <td>2d</td>\n",
       "      <td>PT6M12S</td>\n",
       "      <td>rectangular</td>\n",
       "      <td>NaN</td>\n",
       "      <td>['/m/04rlf', '/m/02jjt', '/m/02jjt']</td>\n",
       "      <td>3</td>\n",
       "      <td>UCZf__ehlCEBPop___sldpBUQ</td>\n",
       "    </tr>\n",
       "    <tr>\n",
       "      <th>3</th>\n",
       "      <td>5wnfkIfw0jE</td>\n",
       "      <td>ツイッターのヒカキンシンメトリーBotが面白すぎて爆笑www</td>\n",
       "      <td>◆チャンネル登録はこちら↓\\r\\r\\r\\r\\nhttp://www.youtube.com/...</td>\n",
       "      <td>none</td>\n",
       "      <td>['ヒカキン', 'ヒカキンtv', 'hikakintv', 'hikakin', 'ひか...</td>\n",
       "      <td>2018-06-25T07:46:07.000Z</td>\n",
       "      <td>https://i.ytimg.com/vi/5wnfkIfw0jE/default.jpg</td>\n",
       "      <td>1109029.0</td>\n",
       "      <td>25986.0</td>\n",
       "      <td>0</td>\n",
       "      <td>...</td>\n",
       "      <td>6852.0</td>\n",
       "      <td>False</td>\n",
       "      <td>hd</td>\n",
       "      <td>2d</td>\n",
       "      <td>PT6M31S</td>\n",
       "      <td>rectangular</td>\n",
       "      <td>NaN</td>\n",
       "      <td>['/m/04rlf', '/m/02jjt', '/m/02jjt']</td>\n",
       "      <td>4</td>\n",
       "      <td>UCZf__ehlCEBPop___sldpBUQ</td>\n",
       "    </tr>\n",
       "    <tr>\n",
       "      <th>4</th>\n",
       "      <td>-6duBsde_XM</td>\n",
       "      <td>【放送事故】酒飲みながら東海オンエア×ヒカキンで質問コーナーやったらヤバかったwww</td>\n",
       "      <td>提供：モンスターストライク\\r\\r\\r\\r\\n▼キャンペーンサイトはこちら\\r\\r\\r\\r\\...</td>\n",
       "      <td>none</td>\n",
       "      <td>['ヒカキン', 'ヒカキンtv', 'hikakintv', 'hikakin', 'ひか...</td>\n",
       "      <td>2018-06-21T08:00:00.000Z</td>\n",
       "      <td>https://i.ytimg.com/vi/-6duBsde_XM/default.jpg</td>\n",
       "      <td>1759797.0</td>\n",
       "      <td>33923.0</td>\n",
       "      <td>0</td>\n",
       "      <td>...</td>\n",
       "      <td>4517.0</td>\n",
       "      <td>False</td>\n",
       "      <td>hd</td>\n",
       "      <td>2d</td>\n",
       "      <td>PT27M7S</td>\n",
       "      <td>rectangular</td>\n",
       "      <td>NaN</td>\n",
       "      <td>['/m/098wr', '/m/019_rr', '/m/02wbm', '/m/019_...</td>\n",
       "      <td>5</td>\n",
       "      <td>UCZf__ehlCEBPop___sldpBUQ</td>\n",
       "    </tr>\n",
       "  </tbody>\n",
       "</table>\n",
       "<p>5 rows × 21 columns</p>\n",
       "</div>"
      ],
      "text/plain": [
       "            id                                          title  \\\n",
       "0  R7V5d94XkGQ  【大食い】超高級寿司店で３人で食べ放題したらいくらかかるの!?【大トロ1カン2,000円】   \n",
       "1  2R9_bkcWNd4       【女王集結】女性YouTuberたちと飲みながら本音トークしてみたら爆笑www   \n",
       "2  EU8S-zxS9PI                【悪質】偽物ヒカキン許さねぇ…注意してください！【なりすまし】   \n",
       "3  5wnfkIfw0jE                ツイッターのヒカキンシンメトリーBotが面白すぎて爆笑www   \n",
       "4  -6duBsde_XM    【放送事故】酒飲みながら東海オンエア×ヒカキンで質問コーナーやったらヤバかったwww   \n",
       "\n",
       "                                         description liveBroadcastContent  \\\n",
       "0  提供：ポコロンダンジョンズ\\r\\r\\r\\r\\niOS：https://bit.ly/2sGg...                 none   \n",
       "1  しばなんチャンネルの動画\\r\\r\\r\\r\\nhttps://www.youtube.com/...                 none   \n",
       "2  ◆チャンネル登録はこちら↓\\r\\r\\r\\r\\nhttp://www.youtube.com/...                 none   \n",
       "3  ◆チャンネル登録はこちら↓\\r\\r\\r\\r\\nhttp://www.youtube.com/...                 none   \n",
       "4  提供：モンスターストライク\\r\\r\\r\\r\\n▼キャンペーンサイトはこちら\\r\\r\\r\\r\\...                 none   \n",
       "\n",
       "                                                tags  \\\n",
       "0  ['ヒカキン', 'ヒカキンtv', 'hikakintv', 'hikakin', 'ひか...   \n",
       "1  ['ヒカキン', 'ヒカキンtv', 'hikakintv', 'hikakin', 'ひか...   \n",
       "2  ['ヒカキン', 'ヒカキンtv', 'hikakintv', 'hikakin', 'ひか...   \n",
       "3  ['ヒカキン', 'ヒカキンtv', 'hikakintv', 'hikakin', 'ひか...   \n",
       "4  ['ヒカキン', 'ヒカキンtv', 'hikakintv', 'hikakin', 'ひか...   \n",
       "\n",
       "                publishedAt                                      thumbnails  \\\n",
       "0  2018-06-30T04:00:01.000Z  https://i.ytimg.com/vi/R7V5d94XkGQ/default.jpg   \n",
       "1  2018-06-29T08:00:01.000Z  https://i.ytimg.com/vi/2R9_bkcWNd4/default.jpg   \n",
       "2  2018-06-27T08:38:55.000Z  https://i.ytimg.com/vi/EU8S-zxS9PI/default.jpg   \n",
       "3  2018-06-25T07:46:07.000Z  https://i.ytimg.com/vi/5wnfkIfw0jE/default.jpg   \n",
       "4  2018-06-21T08:00:00.000Z  https://i.ytimg.com/vi/-6duBsde_XM/default.jpg   \n",
       "\n",
       "   viewCount  likeCount  favoriteCount            ...              \\\n",
       "0  2244205.0    27703.0              0            ...               \n",
       "1  1869268.0    30889.0              0            ...               \n",
       "2  1724625.0    33038.0              0            ...               \n",
       "3  1109029.0    25986.0              0            ...               \n",
       "4  1759797.0    33923.0              0            ...               \n",
       "\n",
       "   commentCount  caption  definition dimension  duration   projection  \\\n",
       "0        8647.0    False          hd        2d  PT21M16S  rectangular   \n",
       "1        8859.0    False          hd        2d  PT18M38S  rectangular   \n",
       "2       11504.0    False          hd        2d   PT6M12S  rectangular   \n",
       "3        6852.0    False          hd        2d   PT6M31S  rectangular   \n",
       "4        4517.0    False          hd        2d   PT27M7S  rectangular   \n",
       "\n",
       "  TopicIds                                   relevantTopicIds idx  \\\n",
       "0      NaN  ['/m/02wbm', '/m/019_rr', '/m/019_rr', '/m/02w...   1   \n",
       "1      NaN               ['/m/04rlf', '/m/02jjt', '/m/02jjt']   2   \n",
       "2      NaN               ['/m/04rlf', '/m/02jjt', '/m/02jjt']   3   \n",
       "3      NaN               ['/m/04rlf', '/m/02jjt', '/m/02jjt']   4   \n",
       "4      NaN  ['/m/098wr', '/m/019_rr', '/m/02wbm', '/m/019_...   5   \n",
       "\n",
       "                         cid  \n",
       "0  UCZf__ehlCEBPop___sldpBUQ  \n",
       "1  UCZf__ehlCEBPop___sldpBUQ  \n",
       "2  UCZf__ehlCEBPop___sldpBUQ  \n",
       "3  UCZf__ehlCEBPop___sldpBUQ  \n",
       "4  UCZf__ehlCEBPop___sldpBUQ  \n",
       "\n",
       "[5 rows x 21 columns]"
      ]
     },
     "execution_count": 1,
     "metadata": {},
     "output_type": "execute_result"
    }
   ],
   "source": [
    "from quilt.data.haradai1262 import YouTuber\n",
    "import pandas as pd\n",
    "\n",
    "df = YouTuber.channel_videos.UUUM_videos()\n",
    "df.head()"
   ]
  },
  {
   "cell_type": "markdown",
   "metadata": {},
   "source": [
    "## <a name=\"one-hot\">one-hot encoding</a>\n",
    "- [pandas.get_dummies](https://pandas.pydata.org/pandas-docs/stable/reference/api/pandas.get_dummies.html)\n",
    "- [sklearn.preprocessing.OneHotEncoder](https://scikit-learn.org/stable/modules/generated/sklearn.preprocessing.OneHotEncoder.html)"
   ]
  },
  {
   "cell_type": "code",
   "execution_count": 2,
   "metadata": {},
   "outputs": [
    {
     "data": {
      "text/plain": [
       "UCJ98lzh2QJGp37QgWPUcwrQ    501\n",
       "UCT0x6RQTeoZByaYt_k1Ranw    501\n",
       "UCKezegV3t5njyVLoeLhYi0A    501\n",
       "UC7RQMyUPzbQerM6rKRGqhvA    501\n",
       "UCg9mwxF0uacG3Q4N91wo2TQ    501\n",
       "Name: cid, dtype: int64"
      ]
     },
     "execution_count": 2,
     "metadata": {},
     "output_type": "execute_result"
    }
   ],
   "source": [
    "df['cid'].value_counts().head()"
   ]
  },
  {
   "cell_type": "code",
   "execution_count": 3,
   "metadata": {
    "scrolled": true
   },
   "outputs": [
    {
     "name": "stdout",
     "output_type": "stream",
     "text": [
      "(66289, 151)\n",
      "UCZf__ehlCEBPop___sldpBUQ\n",
      "[0 0 0 0 0 0 0 0 0 0 0 0 0 0 0 0 0 0 0 0 0 0 0 0 0 0 0 0 0 0 0 0 0 0 0 0 0\n",
      " 0 0 0 0 0 0 0 0 0 0 0 0 0 0 0 0 0 0 0 0 0 0 0 0 0 0 0 0 0 0 0 0 0 0 0 0 0\n",
      " 0 0 0 0 0 0 0 0 0 0 0 0 0 0 1 0 0 0 0 0 0 0 0 0 0 0 0 0 0 0 0 0 0 0 0 0 0\n",
      " 0 0 0 0 0 0 0 0 0 0 0 0 0 0 0 0 0 0 0 0 0 0 0 0 0 0 0 0 0 0 0 0 0 0 0 0 0\n",
      " 0 0 0]\n",
      "index =  88\n",
      "cid =  UCZf__ehlCEBPop___sldpBUQ\n"
     ]
    }
   ],
   "source": [
    "# one-hot encoding by pandas\n",
    "\n",
    "one_hot_df = pd.get_dummies(df['cid'])\n",
    "\n",
    "# check the one-hot vector\n",
    "print(one_hot_df.values.shape)\n",
    "print(df['cid'][0])\n",
    "print(one_hot_df.values[0])\n",
    "index = pd.Index(one_hot_df.values[0]).get_loc(1)\n",
    "print('index = ', index)\n",
    "print('cid = ', one_hot_df.columns[index])"
   ]
  },
  {
   "cell_type": "code",
   "execution_count": 4,
   "metadata": {},
   "outputs": [
    {
     "name": "stdout",
     "output_type": "stream",
     "text": [
      "  (0, 88)\t1.0\n",
      "  (1, 88)\t1.0\n",
      "  (2, 88)\t1.0\n",
      "  (3, 88)\t1.0\n",
      "  (4, 88)\t1.0\n",
      "  (5, 88)\t1.0\n",
      "  (6, 88)\t1.0\n",
      "  (7, 88)\t1.0\n",
      "  (8, 88)\t1.0\n",
      "  (9, 88)\t1.0\n",
      "<class 'scipy.sparse.csr.csr_matrix'>\n"
     ]
    }
   ],
   "source": [
    "# one-hot encoding by sklearn\n",
    "\n",
    "from sklearn import preprocessing\n",
    "encoder = preprocessing.OneHotEncoder()\n",
    "category = df['cid'].values.reshape(-1, 1)\n",
    "encoder.fit(category)\n",
    "one_hot_encoding = encoder.transform(category)\n",
    "\n",
    "# check the one-hot vector\n",
    "print(one_hot_encoding[0:10])\n",
    "print(type(one_hot_encoding))"
   ]
  },
  {
   "cell_type": "markdown",
   "metadata": {},
   "source": [
    "## <a name=\"feature-hashing\">Feature hashing</a>\n",
    "- sklearn : [5.2.2 Feature hashing](https://scikit-learn.org/stable/modules/feature_extraction.html#feature-hashing)\n",
    "- wikipedia: [Feature hashing](https://en.wikipedia.org/wiki/Feature_hashing)"
   ]
  },
  {
   "cell_type": "code",
   "execution_count": 5,
   "metadata": {},
   "outputs": [
    {
     "name": "stdout",
     "output_type": "stream",
     "text": [
      "(66289, 5)\n",
      "UCZf__ehlCEBPop___sldpBUQ\n",
      "[0. 1. 0. 0. 0.]\n",
      "UCZf__ehlCEBPop___sldpBUQ [0. 1. 0. 0. 0.]\n",
      "UC6wKgAlOeFNqmXV167KERhQ [0. 0. 0. 0. 1.]\n",
      "UC4lZ8vGPy8bwmKILb__YlhzQ [0. 0. 0. 0. 1.]\n",
      "UCKtKKtjaaPKA1Oj8Ldnfsdg [1. 0. 0. 0. 0.]\n",
      "UCdtFmWwPlKiCOEND_95fwiA [ 0.  0.  0.  0. -1.]\n",
      "UC2RdeFmVA1PrDqmFqJMG7hA [0. 0. 0. 1. 0.]\n",
      "UCO06KZjWOe6b1tXrgzzakZA [0. 0. 0. 0. 1.]\n",
      "UCg_Wchs_AGoHrlayD_rhO0Q [ 0. -1.  0.  0.  0.]\n",
      "UC__8H678xX1SNBOM10_ReY6Q [1. 0. 0. 0. 0.]\n",
      "UC2rbyOa3Jo7vGSibqKcRjqw [0. 0. 0. 1. 0.]\n",
      "UCPJOCEIyI3gxXbTqKSsViqg [1. 0. 0. 0. 0.]\n",
      "UCrOnS768WQGgNzvM0wOGa1w [0. 0. 0. 1. 0.]\n",
      "UCjX7kJYLEAdsaCDnTsWK3Wg [0. 0. 1. 0. 0.]\n",
      "UCdb7Jw5rprurSCutjT9BW5A [ 0. -1.  0.  0.  0.]\n"
     ]
    }
   ],
   "source": [
    "from sklearn.feature_extraction import FeatureHasher\n",
    "\n",
    "category = df['cid'].values.reshape(-1, 1)\n",
    "\n",
    "# if want, you can set the size of hash table (=n_features on FeatureHasher)\n",
    "num_of_features = 5\n",
    "hasher = FeatureHasher(n_features=num_of_features, input_type='string')\n",
    "hashed_array = hasher.transform(category)\n",
    "\n",
    "# check the result\n",
    "print(hashed_array.shape)\n",
    "print(df['cid'][0])\n",
    "print(hashed_array.toarray()[0])\n",
    "\n",
    "for i in range(0, len(df), 5000):\n",
    "    print(df['cid'][i], hashed_array.toarray()[i])"
   ]
  },
  {
   "cell_type": "markdown",
   "metadata": {},
   "source": [
    "## <a name=\"basen\">BaseN encoding</a>\n",
    "- [BaseN](http://contrib.scikit-learn.org/categorical-encoding/basen.html)\n",
    "- [BASEN ENCODING AND GRID SEARCH IN CATEGORY_ENCODERS](http://www.willmcginnis.com/2016/12/18/basen-encoding-grid-search-category_encoders/)"
   ]
  },
  {
   "cell_type": "code",
   "execution_count": 6,
   "metadata": {},
   "outputs": [
    {
     "name": "stdout",
     "output_type": "stream",
     "text": [
      "UCZf__ehlCEBPop___sldpBUQ [0, 0, 0, 0, 0, 1]\n",
      "UC6wKgAlOeFNqmXV167KERhQ [0, 0, 0, 1, 0, 1]\n",
      "UC4lZ8vGPy8bwmKILb__YlhzQ [0, 0, 0, 2, 1, 0]\n",
      "UCKtKKtjaaPKA1Oj8Ldnfsdg [0, 0, 1, 0, 1, 1]\n",
      "UCdtFmWwPlKiCOEND_95fwiA [0, 0, 1, 1, 2, 0]\n",
      "UC2RdeFmVA1PrDqmFqJMG7hA [0, 0, 1, 2, 2, 2]\n",
      "UCO06KZjWOe6b1tXrgzzakZA [0, 0, 2, 1, 0, 0]\n",
      "UCg_Wchs_AGoHrlayD_rhO0Q [0, 0, 2, 2, 0, 2]\n",
      "UC__8H678xX1SNBOM10_ReY6Q [0, 1, 0, 0, 1, 1]\n",
      "UC2rbyOa3Jo7vGSibqKcRjqw [0, 1, 0, 1, 2, 1]\n",
      "UCPJOCEIyI3gxXbTqKSsViqg [0, 1, 1, 0, 0, 2]\n",
      "UCrOnS768WQGgNzvM0wOGa1w [0, 1, 1, 1, 1, 2]\n",
      "UCjX7kJYLEAdsaCDnTsWK3Wg [0, 1, 1, 2, 2, 0]\n",
      "UCdb7Jw5rprurSCutjT9BW5A [0, 1, 2, 1, 1, 0]\n"
     ]
    }
   ],
   "source": [
    "import category_encoders as ce\n",
    "\n",
    "encoder = ce.basen.BaseNEncoder(cols='cid', base=3)\n",
    "result = encoder.fit_transform(df)\n",
    "\n",
    "# check the result\n",
    "columns = result.columns.tolist()\n",
    "columns_name = [s for s in columns if \"cid\" in s]\n",
    "\n",
    "def get_cid_values(df, names, index):\n",
    "    temp = []\n",
    "    for name in names:\n",
    "        temp.append(df[name][index])\n",
    "    return temp\n",
    "\n",
    "for i in range(0, len(df), 5000):\n",
    "    temp = get_cid_values(result, columns_name, i)\n",
    "    print(df['cid'][i], temp)\n"
   ]
  },
  {
   "cell_type": "markdown",
   "metadata": {},
   "source": [
    "## <a name=\"woe\">Weight of Evidence</a>\n",
    "- category_encoder: [Weight of Evidence](http://contrib.scikit-learn.org/categorical-encoding/woe.html)\n",
    "- [WEIGHT OF EVIDENCE (WOE) AND INFORMATION VALUE EXPLAINED](https://www.listendata.com/2015/03/weight-of-evidence-woe-and-information.html)\n",
    "- [Weight of evidence and Information Value using Python](https://medium.com/@sundarstyles89/weight-of-evidence-and-information-value-using-python-6f05072e83eb)"
   ]
  },
  {
   "cell_type": "code",
   "execution_count": 7,
   "metadata": {},
   "outputs": [
    {
     "name": "stdout",
     "output_type": "stream",
     "text": [
      "UCZf__ehlCEBPop___sldpBUQ \t 3.6095662610015764\n",
      "UC6wKgAlOeFNqmXV167KERhQ \t 0.4757909580572925\n",
      "UC4lZ8vGPy8bwmKILb__YlhzQ \t 1.9921283059003998\n",
      "UCKtKKtjaaPKA1Oj8Ldnfsdg \t 1.807796698178421\n",
      "UCdtFmWwPlKiCOEND_95fwiA \t -1.76268251990698\n",
      "UC2RdeFmVA1PrDqmFqJMG7hA \t -0.8357080911509357\n",
      "UCO06KZjWOe6b1tXrgzzakZA \t 0.42925802928263423\n",
      "UCg_Wchs_AGoHrlayD_rhO0Q \t 3.4570742314135954\n",
      "UC__8H678xX1SNBOM10_ReY6Q \t 2.2192798786121486\n",
      "UC2rbyOa3Jo7vGSibqKcRjqw \t 3.022177923131213\n",
      "UCPJOCEIyI3gxXbTqKSsViqg \t -0.2641732825478688\n",
      "UCrOnS768WQGgNzvM0wOGa1w \t -2.1435507408557353\n",
      "UCjX7kJYLEAdsaCDnTsWK3Wg \t -1.794934067712545\n",
      "UCdb7Jw5rprurSCutjT9BW5A \t -1.606225698959651\n"
     ]
    }
   ],
   "source": [
    "import category_encoders as ce\n",
    "\n",
    "encoder = ce.woe.WOEEncoder(cols='cid')\n",
    "\n",
    "# ready for evidence\n",
    "target = df['viewCount'] > 10000\n",
    "\n",
    "# calculate WOE\n",
    "result = encoder.fit_transform(df, y=target)\n",
    "\n",
    "# check the result\n",
    "for i in range(0, len(df), 5000):\n",
    "    print(df['cid'][i], '\\t', result['cid'][i])\n"
   ]
  },
  {
   "cell_type": "code",
   "execution_count": null,
   "metadata": {},
   "outputs": [],
   "source": []
  }
 ],
 "metadata": {
  "kernelspec": {
   "display_name": "Python 3",
   "language": "python",
   "name": "python3"
  },
  "language_info": {
   "codemirror_mode": {
    "name": "ipython",
    "version": 3
   },
   "file_extension": ".py",
   "mimetype": "text/x-python",
   "name": "python",
   "nbconvert_exporter": "python",
   "pygments_lexer": "ipython3",
   "version": "3.7.1"
  }
 },
 "nbformat": 4,
 "nbformat_minor": 2
}

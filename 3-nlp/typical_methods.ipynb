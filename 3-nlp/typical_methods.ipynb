{
 "cells": [
  {
   "cell_type": "markdown",
   "metadata": {},
   "source": [
    "# 代表的な自然言語処理（日本語を例に）\n",
    "- [補足説明](./typical_methods.md)\n",
    "- mecabによる形態素解析\n",
    "    - 出力オプションの例\n",
    "    - ノード単位で処理し、原型取得する例\n",
    "- NLTKの利用\n",
    "    - KWIC（もしくはKWIC index）\n",
    "    - コロケーション（collocations）\n",
    "    - 単語の出現頻度順\n",
    "    - 単語の条件付き出現頻度\n",
    "- KNPによる係り受け解析\n",
    "    - 文節単位での処理例\n",
    "    - 係り受けを利用したクエリ検索例"
   ]
  },
  {
   "cell_type": "code",
   "execution_count": 1,
   "metadata": {
    "scrolled": true
   },
   "outputs": [
    {
     "name": "stdout",
     "output_type": "stream",
     "text": [
      "すもも\t名詞,一般,*,*,*,*,すもも,スモモ,スモモ\n",
      "も\t助詞,係助詞,*,*,*,*,も,モ,モ\n",
      "もも\t名詞,一般,*,*,*,*,もも,モモ,モモ\n",
      "も\t助詞,係助詞,*,*,*,*,も,モ,モ\n",
      "もも\t名詞,一般,*,*,*,*,もも,モモ,モモ\n",
      "の\t助詞,連体化,*,*,*,*,の,ノ,ノ\n",
      "うち\t名詞,非自立,副詞可能,*,*,*,うち,ウチ,ウチ\n",
      "EOS\n",
      "\n"
     ]
    }
   ],
   "source": [
    "# 形態素解析\n",
    "import MeCab\n",
    "tagger = MeCab.Tagger()\n",
    "print(tagger.parse(\"すもももももももものうち\"))"
   ]
  },
  {
   "cell_type": "code",
   "execution_count": 2,
   "metadata": {},
   "outputs": [
    {
     "name": "stdout",
     "output_type": "stream",
     "text": [
      "すもも\tスモモ\tすもも\t名詞-一般\t\t\n",
      "も\tモ\tも\t助詞-係助詞\t\t\n",
      "もも\tモモ\tもも\t名詞-一般\t\t\n",
      "も\tモ\tも\t助詞-係助詞\t\t\n",
      "もも\tモモ\tもも\t名詞-一般\t\t\n",
      "の\tノ\tの\t助詞-連体化\t\t\n",
      "うち\tウチ\tうち\t名詞-非自立-副詞可能\t\t\n",
      "EOS\n",
      "\n",
      "----\n",
      "すもも も もも も もも の うち \n",
      "\n"
     ]
    }
   ],
   "source": [
    "# MeCab.Tagger() 時の出力オプションで、パース結果が変わる。\n",
    "# parse() は単に文字列出力する。オプションは mecab --help で調べよう。\n",
    "tagger = MeCab.Tagger('-Ochasen')\n",
    "print(tagger.parse(\"すもももももももものうち\"))\n",
    "\n",
    "print('----')\n",
    "\n",
    "tagger = MeCab.Tagger('-Owakati')\n",
    "print(tagger.parse(\"すもももももももものうち\"))"
   ]
  },
  {
   "cell_type": "code",
   "execution_count": 3,
   "metadata": {},
   "outputs": [
    {
     "name": "stdout",
     "output_type": "stream",
     "text": [
      "node.surface=, node.feature=BOS/EOS,*,*,*,*,*,*,*,* => original = *\n",
      "node.surface=おじいさん, node.feature=名詞,一般,*,*,*,*,おじいさん,オジイサン,オジーサン => original = おじいさん\n",
      "node.surface=は, node.feature=助詞,係助詞,*,*,*,*,は,ハ,ワ => original = は\n",
      "node.surface=山, node.feature=名詞,一般,*,*,*,*,山,ヤマ,ヤマ => original = 山\n",
      "node.surface=へ, node.feature=助詞,格助詞,一般,*,*,*,へ,ヘ,エ => original = へ\n",
      "node.surface=しば, node.feature=名詞,一般,*,*,*,*,しば,シバ,シバ => original = しば\n",
      "node.surface=刈, node.feature=名詞,一般,*,*,*,*,刈,カリ,カリ => original = 刈\n",
      "node.surface=かりに, node.feature=副詞,一般,*,*,*,*,かりに,カリニ,カリニ => original = かりに\n",
      "node.surface=、, node.feature=記号,読点,*,*,*,*,、,、,、 => original = 、\n",
      "node.surface=おばあさん, node.feature=名詞,一般,*,*,*,*,おばあさん,オバアサン,オバーサン => original = おばあさん\n",
      "node.surface=は, node.feature=助詞,係助詞,*,*,*,*,は,ハ,ワ => original = は\n",
      "node.surface=川, node.feature=名詞,一般,*,*,*,*,川,カワ,カワ => original = 川\n",
      "node.surface=へ, node.feature=助詞,格助詞,一般,*,*,*,へ,ヘ,エ => original = へ\n",
      "node.surface=洗濯, node.feature=名詞,サ変接続,*,*,*,*,洗濯,センタク,センタク => original = 洗濯\n",
      "node.surface=せ, node.feature=動詞,自立,*,*,サ変・スル,未然ヌ接続,する,セ,セ => original = する\n",
      "node.surface=ん, node.feature=助動詞,*,*,*,不変化型,基本形,ん,ン,ン => original = ん\n",
      "node.surface=たく, node.feature=助動詞,*,*,*,特殊・タイ,連用テ接続,たい,タク,タク => original = たい\n",
      "node.surface=に, node.feature=助詞,格助詞,一般,*,*,*,に,ニ,ニ => original = に\n",
      "node.surface=行き, node.feature=動詞,自立,*,*,五段・カ行促音便,連用形,行く,イキ,イキ => original = 行く\n",
      "node.surface=まし, node.feature=助動詞,*,*,*,特殊・マス,連用形,ます,マシ,マシ => original = ます\n",
      "node.surface=た, node.feature=助動詞,*,*,*,特殊・タ,基本形,た,タ,タ => original = た\n",
      "node.surface=。, node.feature=記号,句点,*,*,*,*,。,。,。 => original = 。\n",
      "node.surface=, node.feature=BOS/EOS,*,*,*,*,*,*,*,* => original = *\n"
     ]
    }
   ],
   "source": [
    "# parseToNode() を使うと、ノード単位で処理しやすい。\n",
    "import MeCab\n",
    "tagger = MeCab.Tagger()\n",
    "\n",
    "sentence = \"おじいさんは山へしば刈かりに、おばあさんは川へ洗濯せんたくに行きました。\"\n",
    "node = tagger.parseToNode(sentence)\n",
    "while node:\n",
    "   features = node.feature.split(\",\")\n",
    "   original = features[6]\n",
    "   print('node.surface={}, node.feature={} => original = {}'.format(node.surface,node.feature,original))\n",
    "   node = node.next\n"
   ]
  },
  {
   "cell_type": "code",
   "execution_count": 4,
   "metadata": {},
   "outputs": [
    {
     "name": "stdout",
     "output_type": "stream",
     "text": [
      "\n",
      "# nltk.Text.concordance with \"おじいさん\"\n",
      "Displaying 17 of 17 matches:\n",
      "むかし 、 むかし 、 ある ところ に 、 おじいさん と おばあさん が あり まし た 。 まいにち 、 おじいさん は 山\n",
      "に 、 おじいさん と おばあさん が あり まし た 。 まいにち 、 おじいさん は 山 へ しば刈り に 、 おばあさん は 川 へ 洗濯 に 行き ま\n",
      " 来 まし た 。 おやおや 、 これ は みごと な 桃 だ こと 。 おじいさん へ の おみやげ に 、 どれどれ 、 うち へ 持っ て 帰り ましょ\n",
      "い ながら 、 おばあさん の 前 へ 流れ て 来 まし た 。 早く おじいさん と 二人 で 分けて 食べ ましょ う 。 と 言っ て 、 桃 を ひ\n",
      " て お うち へ 帰り まし た 。 夕方 に なっ て やっ と 、 おじいさん は 山 から しば を 背負っ て 帰っ て 来 まし た 。 おばあさ\n",
      "っ て 来 まし た 。 おばあさん 、 今 帰っ た よ 。 おや 、 おじいさん 、 おか いん なさい 。 待っ て い まし た よ 。 さあ 、 早\n",
      "だ ね 、 その いい もの という の は 。 こう いい ながら 、 おじいさん は わらじ を ぬい で 、 上 に 上がり まし た 。 ほら 、 ご\n",
      "赤さん が 元気 よく とび出 し まし た 。 おやおや 、 まあ 。 おじいさん も 、 おばあさん も 、 びっくり し て 、 二人 いっしょ に 声\n",
      " 神さま が この 子 を さずけ て 下さっ た に ちがい ない 。 おじいさん も 、 おばあさん も 、 うれし がっ て 、 こう 言い まし た \n",
      " 、 うれし がっ て 、 こう 言い まし た 。 そこで あわて て おじいさん が お湯 を わかす やら 、 おばあさん が むつき を そろえる や\n",
      "いう ので 、 この 子 に 桃太郎 という 名 を つけ まし た 。 おじいさん と おばあさん は 、 それ は それ は だいじ に し て 桃太郎 \n",
      "くらい でし た が 、 その くせ 気だて はごく やさしくっ て 、 おじいさん と おばあさん に よく 孝行 を し まし た 。 桃太郎 は 十五 \n",
      " それ は いさましい こと だ 。 じゃあ 行っ て おい で 。 と おじいさん は 言い まし た 。 まあ 、 そんな 遠方 へ 行く の で は 、\n",
      "。 じゃあ 、 りっぱ に 鬼 を 退治 し て くる が いい 。 と おじいさん は 言い まし た 。 気 を つけ て 、 けが を し ない よう \n",
      "う 。 と 元気 な 声 を のこし て 、 出 て いき まし た 。 おじいさん と おばあさん は 、 門 の 外 に 立っ て 、 いつまでも 、 い\n",
      " もと くい らしい 様子 を し て 帰っ て 来 まし た ので 、 おじいさん も おばあさん も 、 目 も 鼻 も なくし て 喜び まし た 。 \n",
      " た 。 えらい ぞ 、 えらい ぞ 、 それ こそ 日本一 だ 。 と おじいさん は 言い まし た 。 まあ 、 まあ 、 けが が なくっ て 、 何\n"
     ]
    }
   ],
   "source": [
    "# concordance\n",
    "\n",
    "import nltk\n",
    "\n",
    "# データ準備\n",
    "# https://newtechnologylifestyle.net/711-2/\n",
    "# momotaro.txtは、上記を使ってルビを除外したもの。\n",
    "filename = \"./corpus/momotaro.txt\"\n",
    "with open(filename, \"r\") as fh:\n",
    "    sentences = \"\"\n",
    "    for line in fh.readlines():\n",
    "        sentences += line + \" \"\n",
    "\n",
    "def tokenize(sentences):\n",
    "    \"\"\"文章を分かち書きする。\n",
    "\n",
    "    :param sentences(str): 複数の文章を含む文字列。日本語想定。\n",
    "    :return(list): 分かち書きした単語をlistとしてまとめたもの。\n",
    "    \"\"\"\n",
    "\n",
    "    # 「。」、「！」、「？」で終わる一連の文字列を文として認識し分割する。\n",
    "    jp_sent_tokenizer = nltk.RegexpTokenizer(u'[^　「」！？。]*[！？。]')\n",
    "    tagger = MeCab.Tagger('-Owakati -d /usr/local/lib/mecab/dic/mecab-ipadic-neologd')\n",
    "\n",
    "    sents = jp_sent_tokenizer.tokenize(sentences)\n",
    "    tokens = []\n",
    "    for sent in sents:\n",
    "        for word in tagger.parse(sent).split(\" \"):\n",
    "            if word == \" \" or word == \"\\n\":\n",
    "                continue\n",
    "            tokens.append(word)\n",
    "    return tokens\n",
    "\n",
    "tokens = tokenize(sentences)\n",
    "text = nltk.Text(tokens)\n",
    "print('\\n# nltk.Text.concordance with \"おじいさん\"')\n",
    "text.concordance(\"おじいさん\")"
   ]
  },
  {
   "cell_type": "code",
   "execution_count": 5,
   "metadata": {},
   "outputs": [
    {
     "name": "stdout",
     "output_type": "stream",
     "text": [
      "\n",
      "# nltk.Text.collocations\n",
      "## default\n",
      "ドンブラ コッコ; いかめしい くろがね; さけび ながら\n",
      "\n",
      "## collocations(window_size=5)\n",
      "コッコ スッコッコ; ドンブラ コッコ; ドンブラ スッコッコ; おじいさん おばあさん; どちら おいで; 鬼が島 せいばつ; 日本一\n",
      "きびだんご; ござい 日本一; こっこ こっこ; いつまでも 見送っ; ぎゅうぎゅう 押さえつけ; たずね 鬼が島; きびだんご もらっ;\n",
      "いかめしい くろがね; 下さい ましょ; きびだんご 下さい; 見える 見える; キャッ キャッ; コッコ ドンブラ; スッコッコ コッコ\n"
     ]
    }
   ],
   "source": [
    "# collocation\n",
    "\n",
    "print(\"\\n# nltk.Text.collocations\")\n",
    "print(\"## default\")\n",
    "text.collocations()\n",
    "\n",
    "print(\"\\n## collocations(window_size=5)\")\n",
    "text.collocations(window_size=5)"
   ]
  },
  {
   "cell_type": "code",
   "execution_count": 6,
   "metadata": {},
   "outputs": [
    {
     "name": "stdout",
     "output_type": "stream",
     "text": [
      "\n",
      "# FreqDist\n",
      "[('、', 252), ('。', 178), ('た', 119), ('て', 116), ('まし', 92), ('に', 87), ('を', 82), ('と', 76), ('の', 75), ('は', 73), ('が', 46), ('で', 29), ('桃太郎', 29), ('し', 27), ('も', 27), ('へ', 21), ('から', 20), ('だ', 19), ('おじいさん', 17), ('おばあさん', 16), ('う', 16), ('ます', 16), ('鬼', 16), ('言い', 15), ('来', 13), ('ながら', 13), ('お', 12), ('い', 12), ('な', 10), ('もの', 10)]\n"
     ]
    },
    {
     "data": {
      "image/png": "[encoded data removed]",
      "text/plain": [
       "<Figure size 432x288 with 1 Axes>"
      ]
     },
     "metadata": {
      "needs_background": "light"
     },
     "output_type": "display_data"
    }
   ],
   "source": [
    "# 単語の出現頻度順\n",
    "\n",
    "print(\"\\n# FreqDist\")\n",
    "fdist = nltk.FreqDist(tokens)\n",
    "check_num = 30\n",
    "print(fdist.most_common(check_num))\n",
    "\n",
    "%matplotlib inline\n",
    "import matplotlib\n",
    "import matplotlib.font_manager as font_manager\n",
    "#TTFファイル(フォント)のアドレスを指定\n",
    "font_path = '/Library/Fonts/Arial Unicode.ttf'\n",
    "#フォントの詳細情報を取得\n",
    "font_prop = font_manager.FontProperties(fname = font_path)\n",
    "#フォントの名前を使い、matplotのデフォルトフォントに指定\n",
    "matplotlib.rcParams['font.family'] = font_prop.get_name()\n",
    "\n",
    "fdist.plot(check_num)\n"
   ]
  },
  {
   "cell_type": "code",
   "execution_count": 7,
   "metadata": {},
   "outputs": [
    {
     "name": "stdout",
     "output_type": "stream",
     "text": [
      "\n",
      "# FreqDist with bigram (2-gram)\n",
      "[(('まし', 'た'), 92), (('た', '。'), 91), (('て', '、'), 48), (('。', 'と'), 31), (('は', '、'), 24), (('と', '、'), 17), (('し', 'て'), 14), (('。', '桃太郎'), 14), (('に', '、'), 13), (('ながら', '、'), 13), (('う', '。'), 11), (('言い', 'まし'), 11), (('桃太郎', 'は'), 11), (('て', 'い'), 10), (('ます', '。'), 10), (('て', '来'), 9), (('ましょ', 'う'), 9), (('で', '、'), 9), (('来', 'まし'), 8), (('を', 'し'), 8), (('、', '桃太郎'), 8), (('、', 'おじいさん'), 7), (('と', 'おばあさん'), 7), (('言っ', 'て'), 7), (('も', '、'), 7), (('から', '、'), 7), (('に', 'なり'), 7), (('だ', '。'), 7), (('よし', '、'), 7), (('桃太郎', 'さん'), 7)]\n"
     ]
    },
    {
     "data": {
      "image/png": "[encoded data removed]",
      "text/plain": [
       "<Figure size 432x288 with 1 Axes>"
      ]
     },
     "metadata": {
      "needs_background": "light"
     },
     "output_type": "display_data"
    }
   ],
   "source": [
    "# bigram\n",
    "print(\"\\n# FreqDist with bigram (2-gram)\")\n",
    "bigrams = nltk.bigrams(tokens)\n",
    "bigrams_fdist = nltk.FreqDist(bigrams)\n",
    "print(bigrams_fdist.most_common(check_num))\n",
    "\n",
    "# conditional FreqDist\n",
    "cfd = nltk.ConditionalFreqDist(bigrams_fdist)\n",
    "cfd.plot(conditions=[\"桃太郎\", \"鬼\"])\n"
   ]
  },
  {
   "cell_type": "code",
   "execution_count": 8,
   "metadata": {},
   "outputs": [
    {
     "name": "stdout",
     "output_type": "stream",
     "text": [
      "# S-ID:1 KNP:4.19-CF1.1 DATE:2019/10/31 SCORE:-1054.00784\r\n",
      "お爺さんは─────┐　　　　　　　　　<体言>\r\n",
      "      山へ─────┤　　　　　　　　　<体言>\r\n",
      "        芝刈りに、<P>──┐　　　　　<体言>\r\n",
      "お婆さんは─────┐　　　 │　　　　　<体言>\r\n",
      "      川へ─────┤　　　 │　　　　　<体言>\r\n",
      "            洗濯に<P>─PARA─────┐　<体言><用言:動><格解析結果:ガ/婆さん;ニ/川>\r\n",
      "                      行きました。<用言:動><格解析結果:ガ/-;ヲ/-;ニ/-;デ/-;カラ/-;マデ/-;ヘ/-;時間/-;ノ/->\r\n",
      "EOS\r\n"
     ]
    }
   ],
   "source": [
    "# KNP on terminal command\n",
    "\n",
    "!echo \"お爺さんは山へ芝刈りに、お婆さんは川へ洗濯に行きました。\" | juman | knp"
   ]
  },
  {
   "cell_type": "code",
   "execution_count": 9,
   "metadata": {},
   "outputs": [
    {
     "name": "stdout",
     "output_type": "stream",
     "text": [
      "文節単位での処理\n",
      "\tID:0, 見出し:お爺さんは, 係り受けタイプ:D, 親文節ID:2, 素性:<文頭><ハ><助詞><体言><係:未格><提題><区切:3-5><主題表現><格要素><連用要素><正規化代表表記:爺さん/じいさん><主辞代表表記:爺さん/じいさん>\n",
      "\tID:1, 見出し:山へ, 係り受けタイプ:D, 親文節ID:2, 素性:<ヘ><助詞><体言><一文字漢字><係:ヘ格><区切:0-0><格要素><連用要素><正規化代表表記:山/やま?山/さん><主辞代表表記:山/やま?山/さん>\n",
      "\tID:2, 見出し:芝刈りに、, 係り受けタイプ:P, 親文節ID:5, 素性:<サ変><ニ><読点><助詞><体言><係:ニ格><並キ:名:&ST:4.0&&ニ><区切:0-4><読点並キ><並列タイプ:？><格要素><連用要素><正規化代表表記:芝刈り/しばかり><主辞代表表記:芝刈り/しばかり><並列類似度:4.545><並結句数:2><並結文節数:3>\n",
      "\tID:3, 見出し:お婆さんは, 係り受けタイプ:D, 親文節ID:5, 素性:<SM-主体><SM-人><人名><ハ><助詞><体言><係:未格><提題><区切:3-5><主題表現><格要素><連用要素><正規化代表表記:御祖母/おばあ><主辞代表表記:御祖母/おばあ>\n",
      "\tID:4, 見出し:川へ, 係り受けタイプ:D, 親文節ID:5, 素性:<ヘ><助詞><体言><一文字漢字><係:ヘ格><区切:0-0><格要素><連用要素><正規化代表表記:川/かわ><主辞代表表記:川/かわ>\n",
      "\tID:5, 見出し:洗濯に, 係り受けタイプ:D, 親文節ID:6, 素性:<サ変><ニ><助詞><体言><係:連用><レベル:A><区切:0-5><ID:〜に><用言:動><サ変動詞化><連用要素><連用節><動態述語><正規化代表表記:洗濯/せんたく><主辞代表表記:洗濯/せんたく>\n",
      "\tID:6, 見出し:行きました。, 係り受けタイプ:D, 親文節ID:-1, 素性:<文末><時制-過去><句点><用言:動><レベル:C><区切:5-5><ID:（文末）><係:文末><提題受:30><主節><格要素><連用要素><動態述語><敬語:丁寧表現><正規化代表表記:行く/いく><主辞代表表記:行く/いく>\n"
     ]
    }
   ],
   "source": [
    "# KNP：文節単位での処理\n",
    "\n",
    "from pyknp import KNP\n",
    "\n",
    "knp = KNP()\n",
    "sentence = \"お爺さんは山へ芝刈りに、お婆さんは川へ洗濯に行きました。\"\n",
    "result = knp.parse(sentence)\n",
    "\n",
    "print(\"文節単位での処理\")\n",
    "for bnst in result.bnst_list(): # 各文節へのアクセス\n",
    "    print(\"\\tID:%d, 見出し:%s, 係り受けタイプ:%s, 親文節ID:%d, 素性:%s\" \\\n",
    "            % (bnst.bnst_id, \"\".join(mrph.midasi for mrph in bnst.mrph_list()), bnst.dpndtype, bnst.parent_id, bnst.fstring))\n"
   ]
  },
  {
   "cell_type": "code",
   "execution_count": 10,
   "metadata": {},
   "outputs": [
    {
     "name": "stdout",
     "output_type": "stream",
     "text": [
      "\n",
      "# user_query = 芝刈り\n",
      "child: id=0, surface=お爺さんは\n",
      "child: id=1, surface=山へ\n"
     ]
    }
   ],
   "source": [
    "# 係り受けを利用したクエリ検索例\n",
    "\n",
    "def find_children(parse_result, parent_id):\n",
    "    \"\"\"KNPパース結果に対し、parent_id以下の子ノード情報を取得する。\n",
    "\n",
    "    :param parse_result(pyknp.knp.blist.BList): KNP.parse()した結果。\n",
    "    :param parent_id(int): 出発点となるID。\n",
    "    :return:\n",
    "      children_ids(list): parent_idを親とする子ノードのID一覧。\n",
    "      children_surfaces(list): children_idsに対応したsurface一覧。\n",
    "    \"\"\"\n",
    "    children_ids = []\n",
    "    children_surfaces = []\n",
    "    for child_id, bnst in enumerate(parse_result.bnst_list()):\n",
    "        if bnst.parent_id == parent_id:\n",
    "            children_ids.append(child_id)\n",
    "            surface = \"\".join(mrph.midasi for mrph in bnst.mrph_list())\n",
    "            children_surfaces.append(surface)\n",
    "    return children_ids, children_surfaces\n",
    "\n",
    "def search(parse_result, user_query):\n",
    "    \"\"\"KNPパース結果に対し、ユーザクエリに該当するノード情報を取得する。\n",
    "    複数該当ノードがある場合には、最初に見つかったノードのみを返す。\n",
    "\n",
    "    :param parse_result(pyknp.knp.blist.BList): KNP.parse()した結果。\n",
    "    :param user_query(str): 探したい単語。\n",
    "    :return:\n",
    "      children_ids(list): parent_idを親とする子ノードのID一覧。\n",
    "      children_surfaces(list): children_idsに対応したsurface一覧。\n",
    "    \"\"\"\n",
    "    for id, bnst in enumerate(result.bnst_list()):\n",
    "        surface = \"\".join(mrph.midasi for mrph in bnst.mrph_list())\n",
    "        if user_query in surface:\n",
    "            children_ids, children_surfaces = find_children(result, id)\n",
    "            return children_ids, children_surfaces\n",
    "    return None, None\n",
    "\n",
    "user_query = \"芝刈り\"\n",
    "print('\\n# user_query = {}'.format(user_query))\n",
    "\n",
    "children_ids, children_surfaces = search(result, user_query)\n",
    "for i in range(len(children_ids)):\n",
    "    print(\"child: id={}, surface={}\".format(children_ids[i], children_surfaces[i]))\n"
   ]
  },
  {
   "cell_type": "code",
   "execution_count": null,
   "metadata": {},
   "outputs": [],
   "source": []
  }
 ],
 "metadata": {
  "kernelspec": {
   "display_name": "Python 3",
   "language": "python",
   "name": "python3"
  },
  "language_info": {
   "codemirror_mode": {
    "name": "ipython",
    "version": 3
   },
   "file_extension": ".py",
   "mimetype": "text/x-python",
   "name": "python",
   "nbconvert_exporter": "python",
   "pygments_lexer": "ipython3",
   "version": "3.7.1"
  }
 },
 "nbformat": 4,
 "nbformat_minor": 2
}
